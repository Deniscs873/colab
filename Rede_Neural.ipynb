{
  "nbformat": 4,
  "nbformat_minor": 0,
  "metadata": {
    "colab": {
      "provenance": [],
      "include_colab_link": true
    },
    "kernelspec": {
      "name": "python3",
      "display_name": "Python 3"
    },
    "language_info": {
      "name": "python"
    }
  },
  "cells": [
    {
      "cell_type": "markdown",
      "metadata": {
        "id": "view-in-github",
        "colab_type": "text"
      },
      "source": [
        "<a href=\"https://colab.research.google.com/github/Deniscs873/colab/blob/main/Rede_Neural.ipynb\" target=\"_parent\"><img src=\"https://colab.research.google.com/assets/colab-badge.svg\" alt=\"Open In Colab\"/></a>"
      ]
    },
    {
      "cell_type": "markdown",
      "source": [
        "# Redes neurais\n",
        "\n",
        "Rede Neural Artificial (RNA) pode ser definida como uma estrutura complexa interligada por elementos de processamento simples (neurônios), que possuem a capacidade de realizar operações como cálculos em paralelo, para processamento de dados e representação de conhecimento. Seu primeiro conceito foi introduzido em 1943, mas ganhou popularidade algumas décadas depois com a introdução de algoritmos de treinamento como o backpropagation, que permite a realização de um treinamento posterior para aperfeiçoar os resultados do modelo."
      ],
      "metadata": {
        "id": "mPVvnxTTpd3Z"
      }
    },
    {
      "cell_type": "markdown",
      "source": [
        "## Estudo: Conjunto de dados de sementes de trigo 📚\n",
        "\n"
      ],
      "metadata": {
        "id": "nbLkuizApZaN"
      }
    },
    {
      "cell_type": "markdown",
      "source": [
        "O conjunto de dados de sementes envolve a previsão de espécies com medidas de sementes de diferentes variedades de trigo.\n",
        "\n",
        "Existem 201 registros e 7 variáveis ​​de entrada numéricas. É um problema de classificação com 3 classes de saída. A escala para cada valor numérico de entrada varia, portanto, pode ser necessária alguma normalização de dados para uso com algoritmos que ponderam entradas como o algoritmo de retropropagação.\n",
        "\n",
        "Você pode aprender mais e baixar o conjunto de dados de sementes no [Repositório de Aprendizado de Máquina da UCI](http://archive.ics.uci.edu/ml/datasets/seeds).\n",
        "- Faça o download do conjunto de dados de sementes e coloque-o em seu diretório de trabalho atual com o nome de arquivo **seeds_dataset.csv**.\n",
        "- O conjunto de dados está no formato separado por tabulação, portanto, você deve convertê-lo para CSV usando um editor de texto ou um programa de planilha. Se preferir, pode fazer download do conjunto de dados no formato CSV diretamente:\n",
        "  - [Baixar conjunto de dados de sementes de trigo](https://raw.githubusercontent.com/jbrownlee/Datasets/master/wheat-seeds.csv)"
      ],
      "metadata": {
        "id": "_PrKGBz1p4fD"
      }
    },
    {
      "cell_type": "markdown",
      "source": [
        "Importando as bibliotecas"
      ],
      "metadata": {
        "id": "anMhWtoCq0hU"
      }
    },
    {
      "cell_type": "code",
      "source": [
        "# Backprop on the Seeds Dataset\n",
        "from random import seed\n",
        "from random import randrange\n",
        "from random import random\n",
        "from csv import reader\n",
        "from math import exp"
      ],
      "metadata": {
        "id": "xlyPx3SQKNn4"
      },
      "execution_count": null,
      "outputs": []
    },
    {
      "cell_type": "markdown",
      "source": [
        "### Inicialize a rede"
      ],
      "metadata": {
        "id": "tl5KvENGq2fE"
      }
    },
    {
      "cell_type": "markdown",
      "source": [
        "Vamos começar com algo fácil, a criação de uma nova rede pronta para treinamento.\n",
        "\n",
        "Cada neurônio tem um conjunto de pesos que precisam ser mantidos. Um peso para cada conexão de entrada e um peso adicional para a polarização. Precisamos armazenar propriedades adicionais para um neurônio durante o treinamento; portanto, usaremos um dicionário para representar cada neurônio e armazenar propriedades por nomes como `pesos (weights)` para os pesos.\n",
        "\n",
        "Uma rede é organizada em camadas. A camada de entrada é realmente apenas uma linha do nosso conjunto de dados de treinamento. A primeira camada real é a camada oculta. Isso é seguido pela camada de saída que possui um neurônio para cada valor de classe.\n",
        "\n",
        "Organizaremos as camadas como matrizes de dicionários e trataremos toda a rede como uma matriz de camadas.\n",
        "\n",
        "É uma boa prática inicializar os pesos da rede para pequenos números aleatórios. Nesse caso, usaremos números aleatórios no intervalo de 0 a 1.\n",
        "\n",
        "Abaixo está uma função denominada `initialize_network()` que cria uma nova rede neural pronta para treinamento. Ele aceita três parâmetros, o número de entradas, o número de neurônios a ter na camada oculta e o número de saídas.\n",
        "\n",
        "Você pode ver que, para a camada oculta, criamos `n_hidden` neurônios e cada neurônio na camada oculta possui `n_inputs + 1` pesos, um para cada coluna de entrada em um conjunto de dados e um adicional para o viés.\n",
        "\n",
        "Você também pode ver que a camada de saída que se conecta à camada oculta possui `n_outputs` de neurônios, cada um com `n_hidden + 1` pesos. Isso significa que cada neurônio na camada de saída se conecta a (tem um peso para) cada neurônio na camada oculta."
      ],
      "metadata": {
        "id": "LtcZb2bRtOPP"
      }
    },
    {
      "cell_type": "code",
      "source": [
        "# Initialize a network\n",
        "def initialize_network(n_inputs, n_hidden, n_outputs):\n",
        "   network = list()\n",
        "   hidden_layer = [{'weights':[random() for i in range(n_inputs + 1)]} for i in range(n_hidden)]\n",
        "   network.append(hidden_layer)\n",
        "   output_layer = [{'weights':[random() for i in range(n_hidden + 1)]} for i in range(n_outputs)]\n",
        "   network.append(output_layer)\n",
        "   return network"
      ],
      "metadata": {
        "id": "-woxLb7nsGgd"
      },
      "execution_count": null,
      "outputs": []
    },
    {
      "cell_type": "markdown",
      "source": [
        "Vamos testar esta função. Abaixo está um exemplo completo que cria uma pequena rede."
      ],
      "metadata": {
        "id": "YH3LDRTbspd3"
      }
    },
    {
      "cell_type": "code",
      "source": [
        "from random import seed\n",
        "from random import random\n",
        "# Initialize a network\n",
        "def initialize_network(n_inputs, n_hidden, n_outputs):\n",
        "   network = list()\n",
        "   hidden_layer = [{'weights':[random() for i in range(n_inputs + 1)]} for i in range(n_hidden)]\n",
        "   network.append(hidden_layer)\n",
        "   output_layer = [{'weights':[random() for i in range(n_hidden + 1)]} for i in range(n_outputs)]\n",
        "   network.append(output_layer)\n",
        "   return network\n",
        "\n",
        "seed(1)\n",
        "network = initialize_network(2, 1, 2)\n",
        "for layer in network:\n",
        "   print(layer)"
      ],
      "metadata": {
        "colab": {
          "base_uri": "https://localhost:8080/"
        },
        "id": "veYjxzgJsp3g",
        "outputId": "20853332-d67d-4889-9de3-9f9c00ecb243"
      },
      "execution_count": null,
      "outputs": [
        {
          "output_type": "stream",
          "name": "stdout",
          "text": [
            "[{'weights': [0.13436424411240122, 0.8474337369372327, 0.763774618976614]}]\n",
            "[{'weights': [0.2550690257394217, 0.49543508709194095]}, {'weights': [0.4494910647887381, 0.651592972722763]}]\n"
          ]
        }
      ]
    },
    {
      "cell_type": "markdown",
      "source": [
        "Executando o exemplo, você pode ver que o código imprime cada camada uma por uma. Você pode ver que a camada oculta possui um neurônio com 2 pesos de entrada mais o viés. A camada de saída possui 2 neurônios, cada um com 1 peso mais o viés."
      ],
      "metadata": {
        "id": "COZcYJkus0Ph"
      }
    },
    {
      "cell_type": "markdown",
      "source": [
        "▶ Agora que sabemos como criar e inicializar uma rede, vamos ver como podemos usá-la para calcular uma saída."
      ],
      "metadata": {
        "id": "LUsuC8eus8mj"
      }
    },
    {
      "cell_type": "markdown",
      "source": [
        "### Propagar para a frente (Forward Propagate)"
      ],
      "metadata": {
        "id": "ge9U69uatE1Z"
      }
    },
    {
      "cell_type": "markdown",
      "source": [
        "Podemos calcular uma saída de uma rede neural propagando um sinal de entrada através de cada camada até que a camada de saída produza seus valores.\n",
        "\n",
        "Chamamos isso de **propagação direta**.\n",
        "\n",
        "É a técnica de que precisamos para gerar previsões durante o treinamento que precisará ser corrigida e é o método que precisaremos depois que a rede for treinada para fazer previsões de novos dados.\n",
        "\n",
        "Podemos dividir a propagação em três partes:\n",
        "1.  Ativação do neurônio.\n",
        "2.  Transferência de neurônios\n",
        "3.  Propagação para a frente."
      ],
      "metadata": {
        "id": "mWGXUG_gtVyk"
      }
    },
    {
      "cell_type": "markdown",
      "source": [
        "#### Ativação do Neurônio"
      ],
      "metadata": {
        "id": "wxtgTv-Kt1z-"
      }
    },
    {
      "cell_type": "markdown",
      "source": [
        "O primeiro passo é calcular a ativação de um neurônio que recebe uma entrada.\n",
        "\n",
        "A entrada pode ser uma linha do nosso conjunto de dados de treinamento, como no caso da camada oculta. Também podem ser as saídas de cada neurônio na camada oculta, no caso da camada de saída.\n",
        "\n",
        "A ativação do neurônio é calculada como a soma ponderada das entradas. Muito parecido com regressão linear.\n",
        "\n",
        "`activation = sum(weight_i * input_i) + bias`\n",
        "\n",
        "Onde `peso` é um peso de rede, `entrada` é uma entrada, `i` é o índice de um peso ou uma entrada e `viés` é um peso especial que não tem entrada para multiplicar (ou você pode pensar na entrada como sempre sendo 1.0).\n",
        "\n",
        "Abaixo está uma implementação disso em uma função chamada `activate()`. Você pode ver que a função assume que o viés é o último peso na lista de pesos. Isso ajuda aqui e mais tarde a facilitar a leitura do código."
      ],
      "metadata": {
        "id": "BA3Ljm1-t5k2"
      }
    },
    {
      "cell_type": "code",
      "source": [
        "# Calculate neuron activation for an input\n",
        "def activate(weights, inputs):\n",
        "   activation = weights[-1]\n",
        "   for i in range(len(weights)-1):\n",
        "      activation += weights[i] * inputs[i]\n",
        "   return activation"
      ],
      "metadata": {
        "id": "JcySKe9muBI3"
      },
      "execution_count": null,
      "outputs": []
    },
    {
      "cell_type": "markdown",
      "source": [
        "Agora, vamos ver como usar a ativação do neurônio."
      ],
      "metadata": {
        "id": "2gjiSpiiubT3"
      }
    },
    {
      "cell_type": "markdown",
      "source": [
        "#### Transferência de neurônios"
      ],
      "metadata": {
        "id": "ieP55uWXuhZD"
      }
    },
    {
      "cell_type": "markdown",
      "source": [
        "Depois que um neurônio é ativado, precisamos transferir a ativação para ver qual é realmente a saída do neurônio.\n",
        "\n",
        "Diferentes funções de transferência podem ser usadas. É tradicional usar a [**função de ativação sigmóide**](https://en.wikipedia.org/wiki/Sigmoid_function) , mas você também pode usar a [**função tanh ( tangente hiperbólica )**](https://en.wikipedia.org/wiki/Hyperbolic_functions) para transferir saídas. Mais recentemente, a [**função de transferência de retificadores**](https://en.wikipedia.org/wiki/Rectifier_(neural_networks)) tem sido popular em grandes redes de aprendizado profundo.\n",
        "\n",
        "A função de ativação sigmóide se parece com uma forma de S, também é chamada de função logística. Ele pode pegar qualquer valor de entrada e produzir um número entre 0 e 1 em uma curva S. Também é uma função da qual podemos calcular facilmente a derivada (inclinação) de que precisaremos mais tarde ao retropropagar o erro.\n",
        "\n",
        "Podemos transferir uma função de ativação usando a função sigmóide da seguinte maneira:\n",
        "`output = 1 / (1 + e^(-activation))`\n",
        "\n",
        "Onde `e` é a base dos logaritmos naturais ([número de Euler](https://en.wikipedia.org/wiki/E_(mathematical_constant))).\n",
        "\n",
        "Abaixo está uma função chamada `transfer()` que implementa a equação sigmóide."
      ],
      "metadata": {
        "id": "nK87AMW1ui_7"
      }
    },
    {
      "cell_type": "code",
      "source": [
        "# Transfer neuron activation\n",
        "def transfer(activation):\n",
        "   return 1.0 / (1.0 + exp(-activation))"
      ],
      "metadata": {
        "id": "_0bD1l_ouaAt"
      },
      "execution_count": null,
      "outputs": []
    },
    {
      "cell_type": "markdown",
      "source": [
        "Agora que temos as peças, vamos ver como elas são usadas."
      ],
      "metadata": {
        "id": "VmLoH5HbvXge"
      }
    },
    {
      "cell_type": "markdown",
      "source": [
        "#### Propagação direta"
      ],
      "metadata": {
        "id": "EKaoQ8snvZeA"
      }
    },
    {
      "cell_type": "markdown",
      "source": [
        "A propagação direta de uma entrada é simples.\n",
        "\n",
        "Trabalhamos através de cada camada da nossa rede, calculando as saídas para cada neurônio. Todas as saídas de uma camada se tornam entradas para os neurônios na próxima camada.\n",
        "\n",
        "Abaixo está uma função chamada `forward_propagate()` que implementa a propagação direta de uma linha de dados de nosso conjunto de dados com nossa rede neural.\n",
        "\n",
        "Você pode ver que o valor de saída de um neurônio é armazenado no neurônio com o nome `output`. Você também pode ver que coletamos as saídas para uma camada em uma matriz chamada new_inputs que se torna a `entrada (inputs)` da matriz e é usada como entrada para a camada a seguir.\n",
        "\n",
        "A função retorna as saídas da última camada, também chamada camada de saída."
      ],
      "metadata": {
        "id": "LcZDd4MvvcWI"
      }
    },
    {
      "cell_type": "code",
      "source": [
        "# Forward propagate input to a network output\n",
        "def forward_propagate(network, row):\n",
        "   inputs = row\n",
        "   for layer in network:\n",
        "      new_inputs = []\n",
        "      for neuron in layer:\n",
        "         activation = activate(neuron['weights'], inputs)\n",
        "         neuron['output'] = transfer(activation)\n",
        "         new_inputs.append(neuron['output'])\n",
        "      inputs = new_inputs\n",
        "   return inputs"
      ],
      "metadata": {
        "id": "axq43R9tvrs-"
      },
      "execution_count": null,
      "outputs": []
    },
    {
      "cell_type": "markdown",
      "source": [
        "##### Exemplo"
      ],
      "metadata": {
        "id": "THgckyicvqnu"
      }
    },
    {
      "cell_type": "markdown",
      "source": [
        "Vamos juntar todas essas peças e testar a propagação direta da nossa rede.\n",
        "\n",
        "Definimos nossa rede em linha com um neurônio oculto que espera 2 valores de entrada e uma camada de saída com dois neurônios."
      ],
      "metadata": {
        "id": "fhsTsL6HwB3P"
      }
    },
    {
      "cell_type": "code",
      "source": [
        "# test forward propagation\n",
        "network = [[{'weights': [0.13436424411240122, 0.8474337369372327, 0.763774618976614]}], [{'weights': [0.2550690257394217, 0.49543508709194095]}, {'weights': [0.4494910647887381, 0.651592972722763]}]]\n",
        "row = [1, 0, None]\n",
        "output = forward_propagate(network, row)\n",
        "print(output)\n",
        "\n",
        "# A execução do exemplo propaga o padrão de entrada [1, 0] e produz um valor de saída que é impresso. Como a camada de saída possui dois neurônios, obtemos uma lista de dois números como saída.\n",
        "# Os valores reais de saída são apenas absurdos por enquanto, mas a seguir, começaremos a aprender como tornar os pesos nos neurônios mais úteis."
      ],
      "metadata": {
        "colab": {
          "base_uri": "https://localhost:8080/"
        },
        "id": "GlsqWIY3wK1K",
        "outputId": "d9c94ebd-cd3d-41a0-b838-6b584afef0b4"
      },
      "execution_count": null,
      "outputs": [
        {
          "output_type": "stream",
          "name": "stdout",
          "text": [
            "[0.6629970129852887, 0.7253160725279748]\n"
          ]
        }
      ]
    },
    {
      "cell_type": "markdown",
      "source": [
        "### Erro de Propagação Traseira (Back Propagate Error)"
      ],
      "metadata": {
        "id": "vLNbj_L_w1as"
      }
    },
    {
      "cell_type": "markdown",
      "source": [
        "O algoritmo de retropropagação é nomeado para a maneira como os pesos são treinados.\n",
        "\n",
        "O erro é calculado entre as saídas esperadas e as saídas propagadas a partir da rede. Esses erros são propagados para trás pela rede, da camada de saída para a camada oculta, atribuindo a culpa pelo erro e atualizando os pesos à medida que avançam.\n",
        "\n",
        "A matemática para o erro de retropropagação está enraizada no cálculo, mas permaneceremos em alto nível nesta seção e focaremos no que é calculado e como, e não por que, os cálculos assumem esse formato específico.\n",
        "\n",
        "Esta parte é dividida em duas seções.\n",
        "1. Derivado de transferência.\n",
        "2. Backpropagation de erro."
      ],
      "metadata": {
        "id": "wvFQyYyyw7DP"
      }
    },
    {
      "cell_type": "markdown",
      "source": [
        "#### Derivado de transferência"
      ],
      "metadata": {
        "id": "aic0Gh7xxA8D"
      }
    },
    {
      "cell_type": "markdown",
      "source": [
        "Dado um valor de saída de um neurônio, precisamos calcular sua inclinação.\n",
        "\n",
        "Estamos usando a função de transferência sigmóide, cuja derivada pode ser calculada da seguinte maneira:\n",
        "`derivative = output * (1.0 - output)`\n",
        "\n",
        "Abaixo está uma função chamada `transfer_derivative()` que implementa esta equação."
      ],
      "metadata": {
        "id": "FTsaKOwGxEFh"
      }
    },
    {
      "cell_type": "code",
      "source": [
        "# Calculate the derivative of an neuron output\n",
        "def transfer_derivative(output):\n",
        "   return output * (1.0 - output)"
      ],
      "metadata": {
        "id": "yiVSfZZ1xPFH"
      },
      "execution_count": null,
      "outputs": []
    },
    {
      "cell_type": "markdown",
      "source": [
        "Agora, vamos ver como isso pode ser usado."
      ],
      "metadata": {
        "id": "cib_yncoxRf2"
      }
    },
    {
      "cell_type": "markdown",
      "source": [
        "#### Backpropagation de erro (Error Backpropagation)"
      ],
      "metadata": {
        "id": "3I6lqbQxxUC5"
      }
    },
    {
      "cell_type": "markdown",
      "source": [
        "O primeiro passo é calcular o erro para cada neurônio de saída, isso nos dará nosso sinal de erro (entrada) para propagar para trás através da rede.\n",
        "\n",
        "O erro para um determinado neurônio pode ser calculado da seguinte maneira:\n",
        "`error = (expected - output) * transfer_derivative(output)`\n",
        "\n",
        "Onde `expected` é o valor de saída esperado para o neurônio, `output` é o valor de saída para o neurônio e `transfer_derivative()` calcula a inclinação do valor de saída do neurônio, como mostrado acima.\n",
        "\n",
        "Este cálculo de erro é usado para neurônios na camada de saída (output layer). O valor esperado é o próprio valor da classe. Na camada oculta, as coisas são um pouco mais complicadas.\n",
        "\n",
        "O sinal de erro de um neurônio na camada oculta é calculado como o erro ponderado de cada neurônio na camada de saída. Pense no erro retornando ao longo dos pesos da camada de saída até os neurônios na camada oculta.\n",
        "\n",
        "O sinal de erro propagado de volta é acumulado e, em seguida, usado para determinar o erro do neurônio na camada oculta, da seguinte maneira:\n",
        "\n",
        "`error = (weight_k * error_j) * transfer_derivative(output)`\n",
        "\n",
        "Onde `error_j` é o sinal de erro do `j-` ésimo neurônio na camada de saída, `weight_k` é o peso que conecta o `k-` ésimo neurônio ao neurônio atual e a saída é a saída do neurônio atual.\n",
        "\n",
        "Abaixo está uma função chamada `backward_propagate_error()` que implementa este procedimento.\n",
        "\n",
        "Você pode ver que o sinal de erro calculado para cada neurônio é armazenado com o nome ‘delta’. Você pode ver que as camadas da rede são iteradas na ordem inversa, começando na saída e trabalhando para trás. Isso garante que os neurônios na camada de saída tenham valores ‘delta’ calculados primeiro que os neurônios na camada oculta possam usar na iteração subsequente. Eu escolhi o nome ‘delta’ para refletir a alteração que o erro implica no neurônio (por exemplo, o delta do peso).\n",
        "\n",
        "Você pode ver que o sinal de erro para neurônios na camada oculta é acumulado a partir de neurônios na camada de saída, onde o número de neurônios ocultos `j` também é o índice do peso do neurônio no neurônio da camada de saída `neuron[‘weights’][j]`."
      ],
      "metadata": {
        "id": "b9aRh099xXDE"
      }
    },
    {
      "cell_type": "code",
      "source": [
        "# Backpropagate error and store in neurons\n",
        "def backward_propagate_error(network, expected):\n",
        "   for i in reversed(range(len(network))):\n",
        "      layer = network[i]\n",
        "      errors = list()\n",
        "      if i != len(network)-1:\n",
        "         for j in range(len(layer)):\n",
        "            error = 0.0\n",
        "            for neuron in network[i + 1]:\n",
        "               error += (neuron['weights'][j] * neuron['delta'])\n",
        "            errors.append(error)\n",
        "      else:\n",
        "         for j in range(len(layer)):\n",
        "            neuron = layer[j]\n",
        "            errors.append(expected[j] - neuron['output'])\n",
        "      for j in range(len(layer)):\n",
        "         neuron = layer[j]\n",
        "         neuron['delta'] = errors[j] * transfer_derivative(neuron['output'])"
      ],
      "metadata": {
        "id": "ejiTVx0px_JY"
      },
      "execution_count": null,
      "outputs": []
    },
    {
      "cell_type": "markdown",
      "source": [
        "#### Exemplo - vamos ver funcionando até esse trecho"
      ],
      "metadata": {
        "id": "dP9peu8WyFQt"
      }
    },
    {
      "cell_type": "code",
      "source": [
        "# test backpropagation of error\n",
        "network = [[{'output': 0.7105668883115941, 'weights': [0.13436424411240122, 0.8474337369372327, 0.763774618976614]}],\n",
        "[{'output': 0.6213859615555266, 'weights': [0.2550690257394217, 0.49543508709194095]}, {'output': 0.6573693455986976, 'weights': [0.4494910647887381, 0.651592972722763]}]]\n",
        "expected = [0, 1]\n",
        "backward_propagate_error(network, expected)\n",
        "for layer in network:\n",
        "   print(layer)"
      ],
      "metadata": {
        "colab": {
          "base_uri": "https://localhost:8080/"
        },
        "id": "7D_Fv9OQyJLW",
        "outputId": "e079b6e1-1c0a-4637-f6aa-7733f72b2a0d"
      },
      "execution_count": null,
      "outputs": [
        {
          "output_type": "stream",
          "name": "stdout",
          "text": [
            "[{'output': 0.7105668883115941, 'weights': [0.13436424411240122, 0.8474337369372327, 0.763774618976614], 'delta': -0.0005348048046610517}]\n",
            "[{'output': 0.6213859615555266, 'weights': [0.2550690257394217, 0.49543508709194095], 'delta': -0.14619064683582808}, {'output': 0.6573693455986976, 'weights': [0.4494910647887381, 0.651592972722763], 'delta': 0.0771723774346327}]\n"
          ]
        }
      ]
    },
    {
      "cell_type": "markdown",
      "source": [
        "A execução do exemplo imprime a rede após a conclusão da backpropagation de erro. Você pode ver que os valores de erro são calculados e armazenados nos neurônios da camada de saída e da camada oculta."
      ],
      "metadata": {
        "id": "LGKQ9YGIyNnW"
      }
    },
    {
      "cell_type": "markdown",
      "source": [
        "Agora vamos usar a backpropagation de erro para treinar a rede."
      ],
      "metadata": {
        "id": "Uqm_WZlqyQNF"
      }
    },
    {
      "cell_type": "markdown",
      "source": [
        "### Rede de treinamento (Train Network)"
      ],
      "metadata": {
        "id": "IHuVOcd3yR3e"
      }
    },
    {
      "cell_type": "markdown",
      "source": [
        "A rede é treinada usando descida de gradiente estocástico.\n",
        "\n",
        "Isso envolve várias iterações de exposição de um conjunto de dados de treinamento à rede e, para cada linha de dados, propagando as entradas, *backpropagating* o erro e atualizando os pesos da rede.\n",
        "\n",
        "Esta parte é dividida em duas seções:\n",
        "1. Atualizar pesos.\n",
        "2. Rede de treinamento."
      ],
      "metadata": {
        "id": "1k_d_Hm6yV6I"
      }
    },
    {
      "cell_type": "markdown",
      "source": [
        "#### Atualizar pesos (Update Weights)"
      ],
      "metadata": {
        "id": "BiPTS0AHyc4x"
      }
    },
    {
      "cell_type": "markdown",
      "source": [
        "Uma vez que os erros são calculados para cada neurônio na rede pelo método de propagação de retorno acima, eles podem ser usados ​​para atualizar pesos.\n",
        "\n",
        "Os pesos da rede são atualizados da seguinte maneira:\n",
        "\n",
        "`weight = weight + learning_rate * error * input`\n",
        "\n",
        "Onde `weight` é um dado peso, `learning_rate` é um parâmetro que você deve especificar, `error` é o erro calculado pelo procedimento de retropropagação para o neurônio e `input` é o valor de entrada que causou o erro.\n",
        "\n",
        "O mesmo procedimento pode ser usado para atualizar o peso da polarização, exceto que não há termo de entrada ou a entrada é o valor fixo de 1.0.\n",
        "\n",
        "A taxa de aprendizado controla quanto alterar o peso para corrigir o erro. Por exemplo, um valor de 0.1 atualizará o peso em 10% da quantia que possivelmente poderia ser atualizada. Preferem-se pequenas taxas de aprendizado que causam aprendizado mais lento em um grande número de iterações de treinamento. Isso aumenta a probabilidade de a rede encontrar um bom conjunto de pesos em todas as camadas, em vez do conjunto mais rápido de pesos que minimiza o erro (chamado convergência prematura).\n",
        "\n",
        "Abaixo está uma função chamada `update_weights()` que atualiza os pesos para uma rede, dada uma linha de dados de entrada, uma taxa de aprendizado e assume que uma propagação para frente e para trás já foi executada.\n",
        "\n",
        "Lembre-se de que a entrada para a camada de saída é uma coleção de saídas da camada oculta."
      ],
      "metadata": {
        "id": "WTkb02uhygRI"
      }
    },
    {
      "cell_type": "code",
      "source": [
        "# Update network weights with error\n",
        "def update_weights(network, row, l_rate):\n",
        "   for i in range(len(network)):\n",
        "      inputs = row[:-1]\n",
        "      if i != 0:\n",
        "         inputs = [neuron['output'] for neuron in network[i - 1]]\n",
        "      for neuron in network[i]:\n",
        "         for j in range(len(inputs)):\n",
        "            neuron['weights'][j] += l_rate * neuron['delta'] * inputs[j]\n",
        "         neuron['weights'][-1] += l_rate * neuron['delta']"
      ],
      "metadata": {
        "id": "cHcLKQ6Ky39E"
      },
      "execution_count": null,
      "outputs": []
    },
    {
      "cell_type": "markdown",
      "source": [
        "Agora que sabemos como atualizar os pesos da rede, vamos ver como podemos fazer isso repetidamente."
      ],
      "metadata": {
        "id": "k962vYujy6q0"
      }
    },
    {
      "cell_type": "markdown",
      "source": [
        "#### Rede de Treinamento (Train Network)"
      ],
      "metadata": {
        "id": "PDKQ_zy_y8jU"
      }
    },
    {
      "cell_type": "markdown",
      "source": [
        "Como mencionado, a rede é atualizada usando a descida estocástica do gradiente.\n",
        "\n",
        "Isso envolve o primeiro loop para um número fixo de épocas e, em cada época, a atualização da rede para cada linha no conjunto de dados de treinamento.\n",
        "\n",
        "Como são feitas atualizações para cada padrão de treinamento, esse tipo de aprendizado é chamado de aprendizado on-line. Se erros foram acumulados em uma época antes de atualizar os pesos, isso é chamado aprendizado em lote ou descida em gradiente em lote.\n",
        "\n",
        "Abaixo está uma função que implementa o treinamento de uma rede neural já inicializada com um determinado conjunto de dados de treinamento, taxa de aprendizado, número fixo de épocas e número esperado de valores de saída.\n",
        "\n",
        "O número esperado de valores de saída é usado para transformar valores de classe nos dados de treinamento em uma codificação quente. Esse é um vetor binário com uma coluna para cada valor de classe para corresponder à saída da rede. Isso é necessário para calcular o erro para a camada de saída.\n",
        "\n",
        "Você também pode ver que o erro da soma ao quadrado entre a saída esperada e a saída da rede é acumulado a cada época e impresso. Isso é útil para criar um rastro do quanto a rede está aprendendo e melhorando a cada época."
      ],
      "metadata": {
        "id": "azNdmUIRy-6z"
      }
    },
    {
      "cell_type": "code",
      "source": [
        "# Train a network for a fixed number of epochs\n",
        "def train_network(network, train, l_rate, n_epoch, n_outputs):\n",
        "   for epoch in range(n_epoch):\n",
        "      for row in train:\n",
        "         outputs = forward_propagate(network, row)\n",
        "         expected = [0 for i in range(n_outputs)]\n",
        "         expected[row[-1]] = 1\n",
        "         backward_propagate_error(network, expected)\n",
        "         update_weights(network, row, l_rate)"
      ],
      "metadata": {
        "id": "eqbIoQrgy6WF"
      },
      "execution_count": null,
      "outputs": []
    },
    {
      "cell_type": "markdown",
      "source": [
        "Agora temos todas as peças para treinar a rede. Podemos montar um exemplo que inclui tudo o que vimos até agora, incluindo inicialização de rede e treinar uma rede em um pequeno conjunto de dados.\n",
        "\n",
        "Abaixo está um pequeno conjunto de dados artificial que podemos usar para testar o treinamento de nossa **rede neural**.\n",
        "\n",
        "```\n",
        "X1          X2           Y\n",
        "2.7810836   2.550537003  0\n",
        "1.465489372 2.362125076  0\n",
        "3.396561688 4.400293529  0\n",
        "1.38807019  1.850220317  0\n",
        "3.06407232  3.005305973  0\n",
        "7.627531214 2.759262235  1\n",
        "5.332441248 2.088626775  1\n",
        "6.922596716 1.77106367   1\n",
        "8.675418651 -0.242068655 1\n",
        "7.673756466 3.508563011  1\n",
        "```\n",
        "\n"
      ],
      "metadata": {
        "id": "TdBoTSjszGkn"
      }
    },
    {
      "cell_type": "markdown",
      "source": [
        "##### Testando\n",
        "\n",
        "Abaixo está o exemplo completo. Vamos usar 2 neurônios na camada oculta. É um problema de classificação binária (2 classes), portanto haverá dois neurônios na camada de saída. A rede será treinada por 20 épocas com uma taxa de aprendizado de 0,5, o que é alto porque estamos treinando para poucas iterações."
      ],
      "metadata": {
        "id": "dM-Alm0KzT5L"
      }
    },
    {
      "cell_type": "code",
      "source": [
        "# Test training backprop algorithm\n",
        "seed(1)\n",
        "dataset = [[2.7810836,2.550537003,0],\n",
        "           [1.465489372,2.362125076,0],\n",
        "           [3.396561688,4.400293529,0],\n",
        "           [1.38807019,1.850220317,0],\n",
        "           [3.06407232,3.005305973,0],\n",
        "           [7.627531214,2.759262235,1],\n",
        "           [5.332441248,2.088626775,1],\n",
        "           [6.922596716,1.77106367,1],\n",
        "           [8.675418651,-0.242068655,1],\n",
        "           [7.673756466,3.508563011,1]]\n",
        "\n",
        "n_inputs = len(dataset[0]) - 1\n",
        "n_outputs = len(set([row[-1] for row in dataset]))\n",
        "network = initialize_network(n_inputs, 2, n_outputs)\n",
        "\n",
        "train_network(network, dataset, 0.5, 20, n_outputs)\n",
        "\n",
        "for layer in network:\n",
        "   print(layer)"
      ],
      "metadata": {
        "colab": {
          "base_uri": "https://localhost:8080/"
        },
        "id": "KYRWGg0xzeI8",
        "outputId": "a7635338-1c29-451e-8ee7-d04170cca21b"
      },
      "execution_count": null,
      "outputs": [
        {
          "output_type": "stream",
          "name": "stdout",
          "text": [
            "[{'weights': [-1.4688375095432327, 1.850887325439514, 1.0858178629550297], 'output': 0.029980305604426185, 'delta': -0.0059546604162323625}, {'weights': [0.37711098142462157, -0.0625909894552989, 0.2765123702642716], 'output': 0.9456229000211323, 'delta': 0.0026279652850863837}]\n",
            "[{'weights': [2.515394649397849, -0.3391927502445985, -0.9671565426390275], 'output': 0.23648794202357587, 'delta': -0.04270059278364587}, {'weights': [-2.5584149848484263, 1.0036422106209202, 0.42383086467582715], 'output': 0.7790535202438367, 'delta': 0.03803132596437354}]\n"
          ]
        }
      ]
    },
    {
      "cell_type": "code",
      "source": [
        "from math import exp\n",
        "from random import seed\n",
        "from random import random\n",
        "\n",
        "# Train a network for a fixed number of epochs\n",
        "def train_network(network, train, l_rate, n_epoch, n_outputs):\n",
        "   for epoch in range(n_epoch):\n",
        "      sum_error = 0\n",
        "   for row in train:\n",
        "      outputs = forward_propagate(network, row)\n",
        "      expected = [0 for i in range(n_outputs)]\n",
        "      expected[row[-1]] = 1\n",
        "      sum_error += sum([(expected[i]-outputs[i])**2 for i in range(len(expected))])\n",
        "      backward_propagate_error(network, expected)\n",
        "      update_weights(network, row, l_rate)\n",
        "   print('>epoch=%d, lrate=%.3f, error=%.3f' % (epoch, l_rate, sum_error))\n",
        "\n",
        "# Test training backprop algorithm\n",
        "seed(1)\n",
        "dataset = [[2.7810836,2.550537003,0],\n",
        "           [1.465489372,2.362125076,0],\n",
        "           [3.396561688,4.400293529,0],\n",
        "           [1.38807019,1.850220317,0],\n",
        "           [3.06407232,3.005305973,0],\n",
        "           [7.627531214,2.759262235,1],\n",
        "           [5.332441248,2.088626775,1],\n",
        "           [6.922596716,1.77106367,1],\n",
        "           [8.675418651,-0.242068655,1],\n",
        "           [7.673756466,3.508563011,1]]\n",
        "n_inputs = len(dataset[0]) - 1\n",
        "n_outputs = len(set([row[-1] for row in dataset]))\n",
        "network = initialize_network(n_inputs, 2, n_outputs)\n",
        "train_network(network, dataset, 0.5, 20, n_outputs)\n",
        "for layer in network:\n",
        "   print(layer)"
      ],
      "metadata": {
        "colab": {
          "base_uri": "https://localhost:8080/"
        },
        "id": "oeCs3KE2z8DY",
        "outputId": "b81ea871-b3ea-4308-b301-4928ec1b7800"
      },
      "execution_count": null,
      "outputs": [
        {
          "output_type": "stream",
          "name": "stdout",
          "text": [
            ">epoch=19, lrate=0.500, error=6.350\n",
            "[{'weights': [0.04702244528095891, 0.8442898057367274, 0.7548289994028103], 'output': 0.9840590187415943, 'delta': -0.0012432966701953782}, {'weights': [0.1722759810012958, 0.4447229928742587, 0.42635133323053526], 'output': 0.9663709282875607, 'delta': -0.0013702294823488327}]\n",
            "[{'weights': [0.40923052462427756, 0.54380310303148, -0.16580838069853054], 'output': 0.7255320776037567, 'delta': -0.1444790348531614}, {'weights': [-0.11119113899945762, 0.7152027899877591, 0.2916019058174817], 'output': 0.684483563116403, 'delta': 0.06814076441849203}]\n"
          ]
        }
      ]
    },
    {
      "cell_type": "markdown",
      "source": [
        "A execução do exemplo primeiro imprime o erro da soma ao quadrado a cada época de treinamento. Podemos ver uma tendência desse erro diminuindo a cada época.\n",
        "\n",
        "Depois de treinada, a rede é impressa, mostrando os pesos aprendidos. Também na rede ainda estão os valores de saída e delta que podem ser ignorados. Poderíamos atualizar nossa função de treinamento para excluir esses dados, se quiséssemos."
      ],
      "metadata": {
        "id": "lRpDPrixznaV"
      }
    },
    {
      "cell_type": "markdown",
      "source": [
        "Depois que uma rede é treinada, precisamos usá-la para fazer previsões. 🔮"
      ],
      "metadata": {
        "id": "SRKvMgiK0P7J"
      }
    },
    {
      "cell_type": "markdown",
      "source": [
        "### Prever (Predict) 🔮"
      ],
      "metadata": {
        "id": "iTyHkhqe0Xea"
      }
    },
    {
      "cell_type": "markdown",
      "source": [
        "Fazer previsões com uma rede neural treinada é bastante fácil.\n",
        "\n",
        "Já vimos como propagar adiante um padrão de entrada para obter uma saída. É tudo o que precisamos fazer para fazer uma previsão. Podemos usar os próprios valores de saída diretamente como a probabilidade de um padrão pertencente a cada classe de saída.\n",
        "\n",
        "Pode ser mais útil transformar essa saída novamente em uma previsão de classe nítida. Podemos fazer isso selecionando o valor da classe com maior probabilidade. Isso também é chamado de [função arg max](https://en.wikipedia.org/wiki/Arg_max).\n",
        "\n",
        "Abaixo está uma função denominada *predict()* que implementa este procedimento. Retorna o índice na saída da rede que tem a maior probabilidade. Parte do princípio que valores de classe foram convertidos em números inteiros começando em 0."
      ],
      "metadata": {
        "id": "2I-4uyzH0fuT"
      }
    },
    {
      "cell_type": "code",
      "source": [
        "# Make a prediction with a network\n",
        "def predict(network, row):\n",
        "   outputs = forward_propagate(network, row)\n",
        "   return outputs.index(max(outputs))"
      ],
      "metadata": {
        "id": "pagwXXdE3CbI"
      },
      "execution_count": null,
      "outputs": []
    },
    {
      "cell_type": "markdown",
      "source": [
        "#### Exemplo\n",
        "Podemos juntar isso com o código acima para entrada de propagação direta e com nosso pequeno conjunto de dados artificial para testar as previsões com uma rede já treinada. O exemplo codifica uma rede treinada da etapa anterior.\n",
        "\n",
        "O exemplo completo está listado abaixo."
      ],
      "metadata": {
        "id": "bv1qe8Ly3GFz"
      }
    },
    {
      "cell_type": "code",
      "source": [
        "# Test making predictions with the network\n",
        "dataset = [[2.7810836,2.550537003,0],\n",
        "           [1.465489372,2.362125076,0],\n",
        "           [3.396561688,4.400293529,0],\n",
        "           [1.38807019,1.850220317,0],\n",
        "           [3.06407232,3.005305973,0],\n",
        "           [7.627531214,2.759262235,1],\n",
        "           [5.332441248,2.088626775,1],\n",
        "           [6.922596716,1.77106367,1],\n",
        "           [8.675418651,-0.242068655,1],\n",
        "           [7.673756466,3.508563011,1]]\n",
        "network = [[{'weights': [-1.482313569067226, 1.8308790073202204, 1.078381922048799]}, {'weights': [0.23244990332399884, 0.3621998343835864, 0.40289821191094327]}],\n",
        "[{'weights': [2.5001872433501404, 0.7887233511355132, -1.1026649757805829]}, {'weights': [-2.429350576245497, 0.8357651039198697, 1.0699217181280656]}]]\n",
        "\n",
        "for row in dataset:\n",
        "   prediction = predict(network, row)\n",
        "   print('Expected=%d, Got=%d' % (row[-1], prediction))"
      ],
      "metadata": {
        "colab": {
          "base_uri": "https://localhost:8080/"
        },
        "id": "8U2W8Iyh3LfT",
        "outputId": "90cb10d1-7e48-423e-a621-77e2c1ebd484"
      },
      "execution_count": null,
      "outputs": [
        {
          "output_type": "stream",
          "name": "stdout",
          "text": [
            "Expected=0, Got=0\n",
            "Expected=0, Got=0\n",
            "Expected=0, Got=0\n",
            "Expected=0, Got=0\n",
            "Expected=0, Got=0\n",
            "Expected=1, Got=1\n",
            "Expected=1, Got=1\n",
            "Expected=1, Got=1\n",
            "Expected=1, Got=1\n",
            "Expected=1, Got=1\n"
          ]
        }
      ]
    },
    {
      "cell_type": "markdown",
      "source": [
        "A execução do exemplo imprime a saída esperada para cada registro no conjunto de dados de treinamento, seguida pela previsão precisa feita pela rede.\n",
        "\n",
        "Isso mostra que a rede atinge 100% de acurácia (accuracy) nesse pequeno conjunto de dados."
      ],
      "metadata": {
        "id": "lxUAf8p55oUE"
      }
    },
    {
      "cell_type": "markdown",
      "source": [
        "👽 Agora estamos prontos para aplicar nosso algoritmo de *backpropagation* a um conjunto de dados do mundo real."
      ],
      "metadata": {
        "id": "rJGXD5_N3ZVX"
      }
    },
    {
      "cell_type": "markdown",
      "source": [
        "### Conjunto de Dados de Sementes de Trigo"
      ],
      "metadata": {
        "id": "uHOf2yIq3biJ"
      }
    },
    {
      "cell_type": "markdown",
      "source": [
        "Esta seção aplica o algoritmo *Backpropagation* ao conjunto de dados de sementes de trigo.\n",
        "\n",
        "O primeiro passo é carregar o conjunto de dados e converter os dados carregados em números que podemos usar em nossa rede neural. Para isso, usaremos a função auxiliar `load_csv()` para carregar o arquivo, `str_column_to_float()` para converter números de string em flutuantes e `str_column_to_int()` para converter a coluna da classe em valores inteiros."
      ],
      "metadata": {
        "id": "WpqMX6VL3gCt"
      }
    },
    {
      "cell_type": "code",
      "source": [
        "# Load a CSV file\n",
        "def load_csv(filename):\n",
        "   dataset = list()\n",
        "   with open(filename, 'r') as file:\n",
        "      csv_reader = reader(file)\n",
        "      for row in csv_reader:\n",
        "         if not row:\n",
        "            continue\n",
        "         dataset.append(row)\n",
        "   return dataset"
      ],
      "metadata": {
        "id": "j6x9hZP-32OZ"
      },
      "execution_count": null,
      "outputs": []
    },
    {
      "cell_type": "code",
      "source": [
        "# Convert string column to float\n",
        "def str_column_to_float(dataset, column):\n",
        "   for row in dataset:\n",
        "      row[column] = float(row[column].strip())"
      ],
      "metadata": {
        "id": "k2dq2jn5KUZH"
      },
      "execution_count": null,
      "outputs": []
    },
    {
      "cell_type": "code",
      "source": [
        "# Convert string column to integer\n",
        "def str_column_to_int(dataset, column):\n",
        "   class_values = [row[column] for row in dataset]\n",
        "   unique = set(class_values)\n",
        "   lookup = dict()\n",
        "   for i, value in enumerate(unique):\n",
        "      lookup[value] = i\n",
        "   for row in dataset:\n",
        "      row[column] = lookup[row[column]]\n",
        "   return lookup"
      ],
      "metadata": {
        "id": "zKiNBDXpKYHk"
      },
      "execution_count": null,
      "outputs": []
    },
    {
      "cell_type": "markdown",
      "source": [
        "Os valores de entrada variam em escala e precisam ser normalizados para o intervalo de 0 e 1. Geralmente, é uma boa prática normalizar valores de entrada para o intervalo da função de transferência escolhida; nesse caso, a função sigmóide que gera valores entre 0 e 1 As funções auxiliar `dataset_minmax()` e `normalize_dataset()` foram usadas para normalizar os valores de entrada."
      ],
      "metadata": {
        "id": "I_mgXz1S4rJW"
      }
    },
    {
      "cell_type": "code",
      "execution_count": null,
      "metadata": {
        "id": "wX-KLBZUJ3Wh"
      },
      "outputs": [],
      "source": [
        "# Find the min and max values for each column\n",
        "def dataset_minmax(dataset):\n",
        "   minmax = list()\n",
        "   stats = [[min(column), max(column)] for column in zip(*dataset)]\n",
        "   return stats"
      ]
    },
    {
      "cell_type": "code",
      "source": [
        "# Rescale dataset columns to the range 0-1\n",
        "def normalize_dataset(dataset, minmax):\n",
        "   for row in dataset:\n",
        "      for i in range(len(row)-1):\n",
        "         row[i] = (row[i] - minmax[i][0]) / (minmax[i][1] - minmax[i][0])"
      ],
      "metadata": {
        "id": "cXt93tP9KfSC"
      },
      "execution_count": null,
      "outputs": []
    },
    {
      "cell_type": "markdown",
      "source": [
        "Avaliaremos o algoritmo usando a validação cruzada com dobras k com 5 dobras. Isso significa que 201/5 = 40,2 ou 40 registros estarão em cada dobra. Usaremos as funções auxiliar `evaluate_algorithm` | `cross_validation_split` para avaliar o algoritmo com validação cruzada e `accuracy_metric` para calcular a precisão das previsões."
      ],
      "metadata": {
        "id": "m4GZ6VeD4uoM"
      }
    },
    {
      "cell_type": "code",
      "source": [
        "# Split a dataset into k folds\n",
        "def cross_validation_split(dataset, n_folds):\n",
        "   dataset_split = list()\n",
        "   dataset_copy = list(dataset)\n",
        "   fold_size = int(len(dataset) / n_folds)\n",
        "   for i in range(n_folds):\n",
        "      fold = list()\n",
        "      while len(fold) < fold_size:\n",
        "         index = randrange(len(dataset_copy))\n",
        "         fold.append(dataset_copy.pop(index))\n",
        "      dataset_split.append(fold)\n",
        "   return dataset_split"
      ],
      "metadata": {
        "id": "yB0YiTtsKhbp"
      },
      "execution_count": null,
      "outputs": []
    },
    {
      "cell_type": "code",
      "source": [
        "# Evaluate an algorithm using a cross validation split\n",
        "def evaluate_algorithm(dataset, algorithm, n_folds, *args):\n",
        "   folds = cross_validation_split(dataset, n_folds)\n",
        "   scores = list()\n",
        "   for fold in folds:\n",
        "      train_set = list(folds)\n",
        "      train_set.remove(fold)\n",
        "      train_set = sum(train_set, [])\n",
        "      test_set = list()\n",
        "      for row in fold:\n",
        "         row_copy = list(row)\n",
        "         test_set.append(row_copy)\n",
        "         row_copy[-1] = None\n",
        "      predicted = algorithm(train_set, test_set, *args)\n",
        "      actual    = [row[-1] for row in fold]\n",
        "      accuracy  = accuracy_metric(actual, predicted)\n",
        "      scores.append(accuracy)\n",
        "   return scores"
      ],
      "metadata": {
        "id": "dPD64mnAKl5i"
      },
      "execution_count": null,
      "outputs": []
    },
    {
      "cell_type": "code",
      "source": [
        "# Calculate accuracy percentage\n",
        "def accuracy_metric(actual, predicted):\n",
        "   correct = 0\n",
        "   for i in range(len(actual)):\n",
        "      if actual[i] == predicted[i]:\n",
        "         correct += 1\n",
        "   return correct / float(len(actual)) * 100.0"
      ],
      "metadata": {
        "id": "CPaWJUH0KjNw"
      },
      "execution_count": null,
      "outputs": []
    },
    {
      "cell_type": "markdown",
      "source": [
        "Uma nova função chamada `back_propagation()` foi desenvolvida para gerenciar o aplicativo do algoritmo *Backpropagation*, primeiro inicializando uma rede, treinando-a no conjunto de dados de treinamento e depois usando a rede treinada para fazer previsões em um conjunto de dados de teste."
      ],
      "metadata": {
        "id": "whxbonSA5FrW"
      }
    },
    {
      "cell_type": "code",
      "source": [
        "# Backpropagation Algorithm With Stochastic Gradient Descent\n",
        "def back_propagation(train, test, l_rate, n_epoch, n_hidden):\n",
        "   n_inputs = len(train[0]) - 1\n",
        "   n_outputs = len(set([row[-1] for row in train]))\n",
        "   network = initialize_network(n_inputs, n_hidden, n_outputs)\n",
        "   train_network(network, train, l_rate, n_epoch, n_outputs)\n",
        "   predictions = list()\n",
        "   for row in test:\n",
        "      prediction = predict(network, row)\n",
        "      predictions.append(prediction)\n",
        "   return(predictions)"
      ],
      "metadata": {
        "id": "org89katLEjT"
      },
      "execution_count": null,
      "outputs": []
    },
    {
      "cell_type": "markdown",
      "source": [
        "\n",
        "O exemplo completo está listado abaixo. (as chamadas)"
      ],
      "metadata": {
        "id": "zWc4d3c25IFB"
      }
    },
    {
      "cell_type": "code",
      "source": [
        "# Test Backprop on Seeds dataset\n",
        "seed(1)\n",
        "# load and prepare data\n",
        "filename = 'seeds_dataset.csv'\n",
        "dataset = load_csv(filename)\n",
        "\n",
        "for i in range(len(dataset[0])-1):\n",
        "   str_column_to_float(dataset, i)\n",
        "\n",
        "# convert class column to integers\n",
        "str_column_to_int(dataset, len(dataset[0])-1)\n",
        "\n",
        "# normalize input variables\n",
        "minmax = dataset_minmax(dataset)\n",
        "normalize_dataset(dataset, minmax)\n",
        "\n",
        "# evaluate algorithm\n",
        "n_folds = 5\n",
        "l_rate = 0.3\n",
        "n_epoch = 500\n",
        "n_hidden = 5\n",
        "\n",
        "scores = evaluate_algorithm(dataset, back_propagation, n_folds, l_rate, n_epoch, n_hidden)\n",
        "print('Scores: %s' % scores)\n",
        "print('Mean Accuracy: %.3f%%' % (sum(scores)/float(len(scores))))"
      ],
      "metadata": {
        "colab": {
          "base_uri": "https://localhost:8080/"
        },
        "id": "90MAJ7RFKdli",
        "outputId": "63a001b1-d96e-4156-d375-fbfc67a9fe92"
      },
      "execution_count": null,
      "outputs": [
        {
          "output_type": "stream",
          "name": "stdout",
          "text": [
            "Scores: [95.23809523809523, 92.85714285714286, 97.61904761904762, 92.85714285714286, 90.47619047619048]\n",
            "Mean Accuracy: 93.810%\n"
          ]
        }
      ]
    },
    {
      "cell_type": "markdown",
      "source": [
        "### Exemplo Completo 🌱"
      ],
      "metadata": {
        "id": "rQN1S2_q9b5t"
      }
    },
    {
      "cell_type": "code",
      "source": [
        "# Backprop on the Seeds Dataset\n",
        "from random import seed\n",
        "from random import randrange\n",
        "from random import random\n",
        "from csv import reader\n",
        "from math import exp\n",
        "\n",
        "# Load a CSV file\n",
        "def load_csv(filename):\n",
        "   dataset = list()\n",
        "   with open(filename, 'r') as file:\n",
        "      csv_reader = reader(file)\n",
        "      for row in csv_reader:\n",
        "         if not row:\n",
        "            continue\n",
        "         dataset.append(row)\n",
        "   return dataset\n",
        "\n",
        "# Convert string column to float\n",
        "def str_column_to_float(dataset, column):\n",
        "   for row in dataset:\n",
        "      row[column] = float(row[column].strip())\n",
        "\n",
        "# Convert string column to integer\n",
        "def str_column_to_int(dataset, column):\n",
        "   class_values = [row[column] for row in dataset]\n",
        "   unique = set(class_values)\n",
        "   lookup = dict()\n",
        "   for i, value in enumerate(unique):\n",
        "      lookup[value] = i\n",
        "   for row in dataset:\n",
        "      row[column] = lookup[row[column]]\n",
        "   return lookup\n",
        "\n",
        "# Find the min and max values for each column\n",
        "def dataset_minmax(dataset):\n",
        "   minmax = list()\n",
        "   stats = [[min(column), max(column)] for column in zip(*dataset)]\n",
        "   return stats\n",
        "\n",
        "# Rescale dataset columns to the range 0-1\n",
        "def normalize_dataset(dataset, minmax):\n",
        "   for row in dataset:\n",
        "      for i in range(len(row)-1):\n",
        "         row[i] = (row[i] - minmax[i][0]) / (minmax[i][1] - minmax[i][0])\n",
        "\n",
        "# Split a dataset into k folds\n",
        "def cross_validation_split(dataset, n_folds):\n",
        "   dataset_split = list()\n",
        "   dataset_copy = list(dataset)\n",
        "   fold_size = int(len(dataset) / n_folds)\n",
        "   for i in range(n_folds):\n",
        "      fold = list()\n",
        "      while len(fold) < fold_size:\n",
        "         index = randrange(len(dataset_copy))\n",
        "         fold.append(dataset_copy.pop(index))\n",
        "      dataset_split.append(fold)\n",
        "   return dataset_split\n",
        "\n",
        "# Calculate accuracy percentage\n",
        "def accuracy_metric(actual, predicted):\n",
        "   correct = 0\n",
        "   for i in range(len(actual)):\n",
        "      if actual[i] == predicted[i]:\n",
        "         correct += 1\n",
        "   return correct / float(len(actual)) * 100.0\n",
        "\n",
        "# Evaluate an algorithm using a cross validation split\n",
        "def evaluate_algorithm(dataset, algorithm, n_folds, *args):\n",
        "   folds = cross_validation_split(dataset, n_folds)\n",
        "   scores = list()\n",
        "   for fold in folds:\n",
        "      train_set = list(folds)\n",
        "      train_set.remove(fold)\n",
        "      train_set = sum(train_set, [])\n",
        "      test_set = list()\n",
        "      for row in fold:\n",
        "         row_copy = list(row)\n",
        "         test_set.append(row_copy)\n",
        "         row_copy[-1] = None\n",
        "      predicted = algorithm(train_set, test_set, *args)\n",
        "      actual    = [row[-1] for row in fold]\n",
        "      accuracy  = accuracy_metric(actual, predicted)\n",
        "      scores.append(accuracy)\n",
        "   return scores\n",
        "\n",
        "# Calculate neuron activation for an input\n",
        "def activate(weights, inputs):\n",
        "   activation = weights[-1]\n",
        "   for i in range(len(weights)-1):\n",
        "      activation += weights[i] * inputs[i]\n",
        "   return activation\n",
        "\n",
        "# Transfer neuron activation\n",
        "def transfer(activation):\n",
        "   return 1.0 / (1.0 + exp(-activation))\n",
        "\n",
        "# Forward propagate input to a network output\n",
        "def forward_propagate(network, row):\n",
        "   inputs = row\n",
        "   for layer in network:\n",
        "      new_inputs = []\n",
        "      for neuron in layer:\n",
        "         activation = activate(neuron['weights'], inputs)\n",
        "         neuron['output'] = transfer(activation)\n",
        "         new_inputs.append(neuron['output'])\n",
        "      inputs = new_inputs\n",
        "   return inputs\n",
        "\n",
        "# Calculate the derivative of an neuron output\n",
        "def transfer_derivative(output):\n",
        "   return output * (1.0 - output)\n",
        "\n",
        "# Backpropagate error and store in neurons\n",
        "def backward_propagate_error(network, expected):\n",
        "   for i in reversed(range(len(network))):\n",
        "      layer = network[i]\n",
        "      errors = list()\n",
        "      if i != len(network)-1:\n",
        "         for j in range(len(layer)):\n",
        "            error = 0.0\n",
        "            for neuron in network[i + 1]:\n",
        "               error += (neuron['weights'][j] * neuron['delta'])\n",
        "            errors.append(error)\n",
        "      else:\n",
        "         for j in range(len(layer)):\n",
        "            neuron = layer[j]\n",
        "            errors.append(expected[j] - neuron['output'])\n",
        "      for j in range(len(layer)):\n",
        "         neuron = layer[j]\n",
        "         neuron['delta'] = errors[j] * transfer_derivative(neuron['output'])\n",
        "\n",
        "# Update network weights with error\n",
        "def update_weights(network, row, l_rate):\n",
        "   for i in range(len(network)):\n",
        "      inputs = row[:-1]\n",
        "      if i != 0:\n",
        "         inputs = [neuron['output'] for neuron in network[i - 1]]\n",
        "      for neuron in network[i]:\n",
        "         for j in range(len(inputs)):\n",
        "            neuron['weights'][j] += l_rate * neuron['delta'] * inputs[j]\n",
        "         neuron['weights'][-1] += l_rate * neuron['delta']\n",
        "\n",
        "# Train a network for a fixed number of epochs\n",
        "def train_network(network, train, l_rate, n_epoch, n_outputs):\n",
        "   for epoch in range(n_epoch):\n",
        "      for row in train:\n",
        "         outputs = forward_propagate(network, row)\n",
        "         expected = [0 for i in range(n_outputs)]\n",
        "         expected[row[-1]] = 1\n",
        "         backward_propagate_error(network, expected)\n",
        "         update_weights(network, row, l_rate)\n",
        "\n",
        "# Initialize a network\n",
        "def initialize_network(n_inputs, n_hidden, n_outputs):\n",
        "   network = list()\n",
        "   hidden_layer = [{'weights':[random() for i in range(n_inputs + 1)]} for i in range(n_hidden)]\n",
        "   network.append(hidden_layer)\n",
        "   output_layer = [{'weights':[random() for i in range(n_hidden + 1)]} for i in range(n_outputs)]\n",
        "   network.append(output_layer)\n",
        "   return network\n",
        "\n",
        "# Make a prediction with a network\n",
        "def predict(network, row):\n",
        "   outputs = forward_propagate(network, row)\n",
        "   return outputs.index(max(outputs))\n",
        "\n",
        "# Backpropagation Algorithm With Stochastic Gradient Descent\n",
        "def back_propagation(train, test, l_rate, n_epoch, n_hidden):\n",
        "   n_inputs = len(train[0]) - 1\n",
        "   n_outputs = len(set([row[-1] for row in train]))\n",
        "   network = initialize_network(n_inputs, n_hidden, n_outputs)\n",
        "   train_network(network, train, l_rate, n_epoch, n_outputs)\n",
        "   predictions = list()\n",
        "   for row in test:\n",
        "      prediction = predict(network, row)\n",
        "      predictions.append(prediction)\n",
        "   return(predictions)\n",
        "\n",
        "# Test Backprop on Seeds dataset\n",
        "seed(1)\n",
        "\n",
        "# load and prepare data\n",
        "filename = 'seeds_dataset.csv'\n",
        "dataset = load_csv(filename)\n",
        "for i in range(len(dataset[0])-1):\n",
        "   str_column_to_float(dataset, i)\n",
        "\n",
        "# convert class column to integers\n",
        "str_column_to_int(dataset, len(dataset[0])-1)\n",
        "\n",
        "# normalize input variables\n",
        "minmax = dataset_minmax(dataset)\n",
        "normalize_dataset(dataset, minmax)\n",
        "\n",
        "# evaluate algorithm\n",
        "n_folds = 5\n",
        "l_rate = 0.3\n",
        "n_epoch = 500\n",
        "n_hidden = 5\n",
        "scores = evaluate_algorithm(dataset, back_propagation, n_folds, l_rate, n_epoch, n_hidden)\n",
        "\n",
        "print('Scores: %s' % scores)\n",
        "print('Mean Accuracy: %.3f%%' % (sum(scores)/float(len(scores))))"
      ],
      "metadata": {
        "colab": {
          "base_uri": "https://localhost:8080/"
        },
        "id": "KRcExKVj7Umo",
        "outputId": "20c99929-00a4-4e6d-811c-2773cd346ef0"
      },
      "execution_count": null,
      "outputs": [
        {
          "output_type": "stream",
          "name": "stdout",
          "text": [
            "Scores: [95.23809523809523, 92.85714285714286, 97.61904761904762, 92.85714285714286, 90.47619047619048]\n",
            "Mean Accuracy: 93.810%\n"
          ]
        }
      ]
    },
    {
      "cell_type": "markdown",
      "source": [
        "Uma rede com `5 neurônios na camada oculta` e `3 neurônios na camada de saída` foi construída. A rede foi treinada por `500 épocas` com uma taxa de aprendizado de `0,3`. Esses parâmetros foram encontrados com um pouco de tentativa e erro, mas você pode fazer muito melhor.\n",
        "\n",
        "A execução do exemplo imprime a precisão média da classificação em cada dobra, bem como o desempenho médio em todas as dobras.\n",
        "\n",
        "Você pode ver que a retropropagação e a configuração escolhida alcançaram uma precisão de classificação média de cerca de `93%`, o que é muito melhor que o algoritmo de regra zero, que teve uma precisão ligeiramente melhor que `28%` de precisão."
      ],
      "metadata": {
        "id": "0S2zIfjK5f3h"
      }
    },
    {
      "cell_type": "markdown",
      "source": [
        "### Sugestões de Testes e melhorias"
      ],
      "metadata": {
        "id": "qacHLKak_hL5"
      }
    },
    {
      "cell_type": "markdown",
      "source": [
        "- **Ajustar parâmetros do algoritmo**. Tente redes maiores ou menores treinadas por mais ou menos. Veja se você pode obter um melhor desempenho no conjunto de dados de sementes.\n",
        "- **Métodos adicionais**. Experimente diferentes técnicas de inicialização de peso (como pequenos números aleatórios) e diferentes funções de transferência (como tanh).\n",
        "- **Mais camadas**. Adicione suporte para mais camadas ocultas, treinadas da mesma maneira que a camada oculta usada neste tutorial.\n",
        "- **Regressão**. Altere a rede para que haja apenas um neurônio na camada de saída e que um valor real seja previsto. Escolha um conjunto de dados de regressão para praticar. Uma função de transferência linear pode ser usada para neurônios na camada de saída ou os valores de saída do conjunto de dados escolhido podem ser redimensionados para valores entre 0 e 1.\n",
        "- **Descida em gradiente em lote (Batch Gradient Descent)**. Altere o procedimento de treinamento de online para descida em gradiente de lote e atualize os pesos somente no final de cada época."
      ],
      "metadata": {
        "id": "Hu80cRms_kcb"
      }
    },
    {
      "cell_type": "markdown",
      "source": [
        "\n",
        "\n",
        "---\n",
        "\n"
      ],
      "metadata": {
        "id": "_2anD57Q_LoC"
      }
    },
    {
      "cell_type": "markdown",
      "source": [
        "Mais informações sobre Machine Learning? 📚 🤖\n",
        "\n",
        "Blog do Zouza no Medium ([link](https://medium.com/blog-do-zouza/o-que-%C3%A9-machine-learning-5e7e98453985))"
      ],
      "metadata": {
        "id": "7OQNmXDa_IC7"
      }
    }
  ]
}